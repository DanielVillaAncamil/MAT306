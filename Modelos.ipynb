{
 "cells": [
  {
   "cell_type": "markdown",
   "id": "50490d2f-0787-4d67-82d5-c067fbbf5ead",
   "metadata": {},
   "source": [
    "**Importar las funciones necesarias para aplicar los modelos**"
   ]
  },
  {
   "cell_type": "code",
   "execution_count": 5,
   "id": "6a753774-6561-4ce6-b172-ab7e43c8deca",
   "metadata": {},
   "outputs": [],
   "source": [
    "import random\n",
    "import pandas as pd\n",
    "import nltk\n",
    "from nltk.corpus import stopwords\n",
    "from nltk.tokenize import word_tokenize\n",
    "from nltk.stem import WordNetLemmatizer\n",
    "from nltk.corpus import wordnet\n",
    "import string\n",
    "from sklearn.feature_extraction.text import TfidfVectorizer\n",
    "from sklearn.model_selection import train_test_split\n",
    "from sklearn.svm import SVC\n",
    "from sklearn.metrics import classification_report, accuracy_score\n",
    "from imblearn.over_sampling import RandomOverSampler\n",
    "from sklearn.feature_extraction.text import CountVectorizer\n",
    "from sklearn.metrics import fbeta_score\n",
    "from sklearn.linear_model import LogisticRegression\n",
    "import matplotlib.pyplot as plt\n",
    "from sklearn.metrics import roc_curve, auc\n",
    "from sklearn.metrics import precision_recall_curve\n",
    "import contractions\n",
    "import seaborn as sns\n",
    "from sklearn.metrics import confusion_matrix"
   ]
  },
  {
   "cell_type": "markdown",
   "id": "b2ac56b1-a517-4465-bba3-e503fd678f11",
   "metadata": {},
   "source": [
    "**Descargar los recursos que ayudarán al desglose de las frases**"
   ]
  },
  {
   "cell_type": "code",
   "execution_count": 8,
   "id": "8202bc1c-6c9f-422b-955f-f3cdd8d4adba",
   "metadata": {},
   "outputs": [
    {
     "name": "stderr",
     "output_type": "stream",
     "text": [
      "[nltk_data] Downloading package averaged_perceptron_tagger to\n",
      "[nltk_data]     C:\\Users\\Daniel\\AppData\\Roaming\\nltk_data...\n",
      "[nltk_data]   Package averaged_perceptron_tagger is already up-to-\n",
      "[nltk_data]       date!\n",
      "[nltk_data] Downloading package punkt to\n",
      "[nltk_data]     C:\\Users\\Daniel\\AppData\\Roaming\\nltk_data...\n",
      "[nltk_data]   Package punkt is already up-to-date!\n",
      "[nltk_data] Downloading package wordnet to\n",
      "[nltk_data]     C:\\Users\\Daniel\\AppData\\Roaming\\nltk_data...\n",
      "[nltk_data]   Package wordnet is already up-to-date!\n",
      "[nltk_data] Downloading package stopwords to\n",
      "[nltk_data]     C:\\Users\\Daniel\\AppData\\Roaming\\nltk_data...\n",
      "[nltk_data]   Package stopwords is already up-to-date!\n"
     ]
    },
    {
     "data": {
      "text/plain": [
       "True"
      ]
     },
     "execution_count": 8,
     "metadata": {},
     "output_type": "execute_result"
    }
   ],
   "source": [
    "nltk.download('averaged_perceptron_tagger')\n",
    "nltk.download('punkt')\n",
    "nltk.download('wordnet')\n",
    "nltk.download('stopwords')"
   ]
  },
  {
   "cell_type": "markdown",
   "id": "5a19ebb0-a7da-4825-97cb-e08823bb7c52",
   "metadata": {},
   "source": [
    "**Función que permite estandarizar y simplificar las frases**"
   ]
  },
  {
   "cell_type": "code",
   "execution_count": 13,
   "id": "77283590-9a21-4f72-a24b-354998fdc317",
   "metadata": {},
   "outputs": [],
   "source": [
    "lemmatizer = WordNetLemmatizer()\n",
    "stop_words = set(stopwords.words('english'))\n",
    "\n",
    "def preprocesar_frase(frase):\n",
    "    frase = frase.lower()  # Convertir a minúsculas\n",
    "    frase = contractions.fix(frase)  # Expandir contracciones\n",
    "    tokens = word_tokenize(frase)  # Tokenizar frase\n",
    "    tokens = [palabra for palabra in tokens if palabra not in string.punctuation]\n",
    "    tokens = [palabra for palabra in tokens if palabra not in stop_words]\n",
    "    \n",
    "    # Obtener las etiquetas gramaticales\n",
    "    etiquetas = nltk.pos_tag(tokens)\n",
    "    \n",
    "    # Lematizar\n",
    "    tokens_lemmatizados = [\n",
    "        lemmatizer.lemmatize(palabra, obtener_etiqueta(etiqueta)) for palabra, etiqueta in etiquetas\n",
    "    ]\n",
    "    \n",
    "    return ' '.join(tokens_lemmatizados)"
   ]
  },
  {
   "cell_type": "markdown",
   "id": "2c89a81a-0bbb-4785-a7af-46f2bd881425",
   "metadata": {},
   "source": [
    "**Seleccionar la frase de cada review**"
   ]
  },
  {
   "cell_type": "code",
   "execution_count": 16,
   "id": "2763e2ce-a43f-4d9d-bb1f-475d5163527a",
   "metadata": {},
   "outputs": [],
   "source": [
    "def seleccionar_frase(oraciones_reseña, tiene_spoiler):\n",
    "    frases_con_spoiler = [oracion for es_spoiler, oracion in oraciones_reseña if es_spoiler == 1]\n",
    "    if tiene_spoiler and frases_con_spoiler:\n",
    "        return random.choice(frases_con_spoiler)\n",
    "    else:\n",
    "        return random.choice([oracion for _, oracion in oraciones_reseña])"
   ]
  },
  {
   "cell_type": "markdown",
   "id": "d2207912-d22c-45bb-9678-1033668fde08",
   "metadata": {},
   "source": [
    "**Etiquetar cada palabra según corresponda**"
   ]
  },
  {
   "cell_type": "code",
   "execution_count": 19,
   "id": "878f611c-2611-4d07-8b7e-6cc1da1b7630",
   "metadata": {},
   "outputs": [],
   "source": [
    "def obtener_etiqueta(tag):\n",
    "    if tag.startswith('J'):\n",
    "        return wordnet.ADJ\n",
    "    elif tag.startswith('V'):\n",
    "        return wordnet.VERB\n",
    "    elif tag.startswith('N'):\n",
    "        return wordnet.NOUN\n",
    "    elif tag.startswith('R'):\n",
    "        return wordnet.ADV\n",
    "    else:\n",
    "        return wordnet.NOUN"
   ]
  },
  {
   "cell_type": "markdown",
   "id": "bfe916d1-cf90-4d38-9db2-94dfff0e70c5",
   "metadata": {},
   "source": [
    "**Función que permite evaluar una frase ya dado el modelo**"
   ]
  },
  {
   "cell_type": "code",
   "execution_count": 21,
   "id": "6de823bd-5c7b-4c50-b653-1dc6a961a09e",
   "metadata": {},
   "outputs": [],
   "source": [
    "def probar_frase(modelo, vectorizador, frase):  # Predecir una frase dada\n",
    "    # Preprocesar la frase\n",
    "    frase_procesada = preprocesar_frase(frase)\n",
    "    \n",
    "    # Vectorizar la frase\n",
    "    X_nueva = vectorizador.transform([frase_procesada])\n",
    "    \n",
    "    # Predecir con el modelo\n",
    "    prediccion = modelo.predict(X_nueva)\n",
    "    \n",
    "    # Mostrar el resultado\n",
    "    if prediccion[0] == 1:\n",
    "        print(\"La frase contiene un spoiler.\")\n",
    "    else:\n",
    "        print(\"La frase no contiene un spoiler.\")"
   ]
  },
  {
   "cell_type": "markdown",
   "id": "602bb4e2-e3ea-4edc-aa92-25a77f4a833f",
   "metadata": {},
   "source": [
    "**Definición del modelo a usar**"
   ]
  },
  {
   "cell_type": "code",
   "execution_count": 23,
   "id": "5083661c-ea6b-47e1-945a-47cca23d5c67",
   "metadata": {},
   "outputs": [],
   "source": [
    "vectorizacion = 'tfidf'\n",
    "tipo_modelo = 'logistic'\n",
    "peso = {0: 1, 1: 1}\n"
   ]
  },
  {
   "cell_type": "markdown",
   "id": "d1b14baa-8a16-4d24-bbf5-a4b8a79f348b",
   "metadata": {},
   "source": [
    "**Ruta y máximo de reseñas a considerar**"
   ]
  },
  {
   "cell_type": "code",
   "execution_count": 25,
   "id": "72058b98-15a6-435a-b882-1b60654cfe77",
   "metadata": {},
   "outputs": [],
   "source": [
    "ruta_archivo = 'C:/Users/Daniel/Documents/Universidad/Semestre 10/Proyectos Estadísticos/goodreads_reviews_spoiler.json/goodreads_reviews_spoiler.json'\n",
    "maximo_reseñas = 100000\n",
    "tamaño_chunk = 1000"
   ]
  },
  {
   "cell_type": "markdown",
   "id": "82cec86a-3eed-499f-a449-97d9c632fb69",
   "metadata": {},
   "source": [
    "**Recorrido de la base de datos**"
   ]
  },
  {
   "cell_type": "code",
   "execution_count": 27,
   "id": "4a02da98-f8f4-4826-ae0e-08f01d104d49",
   "metadata": {},
   "outputs": [],
   "source": [
    "datos_reseñas = []\n",
    "for chunk in pd.read_json(ruta_archivo, lines=True, chunksize=tamaño_chunk):\n",
    "    for _, fila in chunk.iterrows():\n",
    "        if len(datos_reseñas) >= maximo_reseñas:\n",
    "            break\n",
    "        \n",
    "        frase_clave = seleccionar_frase(fila['review_sentences'], fila['has_spoiler'])\n",
    "        etiqueta = fila['has_spoiler']\n",
    "        datos_reseñas.append((frase_clave, etiqueta))\n",
    "    \n",
    "    if len(datos_reseñas) >= maximo_reseñas:\n",
    "        break"
   ]
  },
  {
   "cell_type": "markdown",
   "id": "ed509b2b-ee5a-44f0-98ee-b010b2e302d0",
   "metadata": {},
   "source": [
    "**Creación Dataframe y su estandarización**"
   ]
  },
  {
   "cell_type": "code",
   "execution_count": 33,
   "id": "ec6d2b5f-1e13-4a79-9ae8-5ffae3ea0319",
   "metadata": {},
   "outputs": [],
   "source": [
    "df_reseñas = pd.DataFrame(datos_reseñas, columns=['texto', 'etiqueta'])\n",
    "df_reseñas['texto'] = df_reseñas['texto'].apply(preprocesar_frase)"
   ]
  },
  {
   "cell_type": "markdown",
   "id": "971d4a8b-67fe-4ca6-ac1e-a1a5cbd8bd19",
   "metadata": {},
   "source": [
    "**Distribución etiquetas**"
   ]
  },
  {
   "cell_type": "code",
   "execution_count": 41,
   "id": "6ce03546-b036-4274-9f80-5954093a3948",
   "metadata": {},
   "outputs": [
    {
     "name": "stdout",
     "output_type": "stream",
     "text": [
      "Distribución de etiquetas antes del muestreo:\n",
      "etiqueta\n",
      "False    93582\n",
      "True      6418\n",
      "Name: count, dtype: int64\n"
     ]
    }
   ],
   "source": [
    "print(\"Distribución de etiquetas antes del muestreo:\")\n",
    "print(df_reseñas['etiqueta'].value_counts())"
   ]
  },
  {
   "cell_type": "markdown",
   "id": "dca8cb7b-a0dc-4481-bd4f-acca732fcc0c",
   "metadata": {},
   "source": [
    "**Obtener muestra para que sea equilibrada**"
   ]
  },
  {
   "cell_type": "code",
   "execution_count": 44,
   "id": "5863f377-2fbd-4767-be3a-ea02ce87dda7",
   "metadata": {},
   "outputs": [
    {
     "name": "stderr",
     "output_type": "stream",
     "text": [
      "C:\\Users\\Daniel\\AppData\\Local\\Temp\\ipykernel_16360\\3923183168.py:3: DeprecationWarning: DataFrameGroupBy.apply operated on the grouping columns. This behavior is deprecated, and in a future version of pandas the grouping columns will be excluded from the operation. Either pass `include_groups=False` to exclude the groupings or explicitly select the grouping columns after groupby to silence this warning.\n",
      "  df_muestra = df_reseñas.groupby('etiqueta', group_keys=False).apply(lambda x: x.sample(int(tamaño_muestra * 0.5), random_state=27))\n"
     ]
    }
   ],
   "source": [
    "minimo_conteo = df_reseñas['etiqueta'].value_counts().min()\n",
    "tamaño_muestra = min(minimo_conteo * 2, maximo_reseñas)\n",
    "df_muestra = df_reseñas.groupby('etiqueta', group_keys=False).apply(lambda x: x.sample(int(tamaño_muestra * 0.5), random_state=27))"
   ]
  },
  {
   "cell_type": "markdown",
   "id": "be4dd1b4-4e06-4d2b-be13-636010672292",
   "metadata": {},
   "source": [
    "**Selección de forma de vectorización**"
   ]
  },
  {
   "cell_type": "code",
   "execution_count": 47,
   "id": "45dc287b-9dc9-428b-893c-b46b040af1b1",
   "metadata": {},
   "outputs": [],
   "source": [
    "if vectorizacion == 'tfidf':\n",
    "    vectorizador = TfidfVectorizer(max_features=10000)\n",
    "elif vectorizacion == 'bow':\n",
    "    vectorizador = CountVectorizer(max_features=10000)"
   ]
  },
  {
   "cell_type": "markdown",
   "id": "5ce4aeeb-0a73-4f0c-8a36-b1e4f462d5ea",
   "metadata": {},
   "source": [
    "**Vectorización**"
   ]
  },
  {
   "cell_type": "code",
   "execution_count": 51,
   "id": "a43a3ca0-a079-446c-be9e-4ed84a58ab88",
   "metadata": {},
   "outputs": [],
   "source": [
    "X = vectorizador.fit_transform(df_muestra['texto'])\n",
    "y = df_muestra['etiqueta']"
   ]
  },
  {
   "cell_type": "markdown",
   "id": "3b82b73e-6af1-4c54-9539-7538ee2c2aff",
   "metadata": {},
   "source": [
    "**Creación grupos de testeo y entrenamiento**"
   ]
  },
  {
   "cell_type": "code",
   "execution_count": 54,
   "id": "1d3e8cc1-5786-4ba7-b678-c136a513e41d",
   "metadata": {},
   "outputs": [],
   "source": [
    "X_train, X_test, y_train, y_test = train_test_split(X, y, test_size=0.15, stratify=y, random_state=27)"
   ]
  },
  {
   "cell_type": "markdown",
   "id": "9d7974ec-944d-4dd9-ad84-8d69746e2e75",
   "metadata": {},
   "source": [
    "**Selección modelo**"
   ]
  },
  {
   "cell_type": "code",
   "execution_count": 63,
   "id": "adcc3cc0-5b84-4115-a64f-d9eac7276019",
   "metadata": {},
   "outputs": [],
   "source": [
    "if tipo_modelo == 'svm':\n",
    "    modelo = SVC(C=1.0, kernel='linear', class_weight=peso, random_state=27)\n",
    "elif tipo_modelo == 'logistic':\n",
    "    modelo = LogisticRegression(class_weight=peso, max_iter=1000, random_state=27)"
   ]
  },
  {
   "cell_type": "markdown",
   "id": "ae0f5649-e1d9-4a12-b416-ebe19e61ddb8",
   "metadata": {},
   "source": [
    "**Ajuste modelo**"
   ]
  },
  {
   "cell_type": "code",
   "execution_count": 66,
   "id": "6d8c94cb-0531-40fd-a9d2-92d6c20f190b",
   "metadata": {},
   "outputs": [
    {
     "data": {
      "text/html": [
       "<style>#sk-container-id-2 {\n",
       "  /* Definition of color scheme common for light and dark mode */\n",
       "  --sklearn-color-text: black;\n",
       "  --sklearn-color-line: gray;\n",
       "  /* Definition of color scheme for unfitted estimators */\n",
       "  --sklearn-color-unfitted-level-0: #fff5e6;\n",
       "  --sklearn-color-unfitted-level-1: #f6e4d2;\n",
       "  --sklearn-color-unfitted-level-2: #ffe0b3;\n",
       "  --sklearn-color-unfitted-level-3: chocolate;\n",
       "  /* Definition of color scheme for fitted estimators */\n",
       "  --sklearn-color-fitted-level-0: #f0f8ff;\n",
       "  --sklearn-color-fitted-level-1: #d4ebff;\n",
       "  --sklearn-color-fitted-level-2: #b3dbfd;\n",
       "  --sklearn-color-fitted-level-3: cornflowerblue;\n",
       "\n",
       "  /* Specific color for light theme */\n",
       "  --sklearn-color-text-on-default-background: var(--sg-text-color, var(--theme-code-foreground, var(--jp-content-font-color1, black)));\n",
       "  --sklearn-color-background: var(--sg-background-color, var(--theme-background, var(--jp-layout-color0, white)));\n",
       "  --sklearn-color-border-box: var(--sg-text-color, var(--theme-code-foreground, var(--jp-content-font-color1, black)));\n",
       "  --sklearn-color-icon: #696969;\n",
       "\n",
       "  @media (prefers-color-scheme: dark) {\n",
       "    /* Redefinition of color scheme for dark theme */\n",
       "    --sklearn-color-text-on-default-background: var(--sg-text-color, var(--theme-code-foreground, var(--jp-content-font-color1, white)));\n",
       "    --sklearn-color-background: var(--sg-background-color, var(--theme-background, var(--jp-layout-color0, #111)));\n",
       "    --sklearn-color-border-box: var(--sg-text-color, var(--theme-code-foreground, var(--jp-content-font-color1, white)));\n",
       "    --sklearn-color-icon: #878787;\n",
       "  }\n",
       "}\n",
       "\n",
       "#sk-container-id-2 {\n",
       "  color: var(--sklearn-color-text);\n",
       "}\n",
       "\n",
       "#sk-container-id-2 pre {\n",
       "  padding: 0;\n",
       "}\n",
       "\n",
       "#sk-container-id-2 input.sk-hidden--visually {\n",
       "  border: 0;\n",
       "  clip: rect(1px 1px 1px 1px);\n",
       "  clip: rect(1px, 1px, 1px, 1px);\n",
       "  height: 1px;\n",
       "  margin: -1px;\n",
       "  overflow: hidden;\n",
       "  padding: 0;\n",
       "  position: absolute;\n",
       "  width: 1px;\n",
       "}\n",
       "\n",
       "#sk-container-id-2 div.sk-dashed-wrapped {\n",
       "  border: 1px dashed var(--sklearn-color-line);\n",
       "  margin: 0 0.4em 0.5em 0.4em;\n",
       "  box-sizing: border-box;\n",
       "  padding-bottom: 0.4em;\n",
       "  background-color: var(--sklearn-color-background);\n",
       "}\n",
       "\n",
       "#sk-container-id-2 div.sk-container {\n",
       "  /* jupyter's `normalize.less` sets `[hidden] { display: none; }`\n",
       "     but bootstrap.min.css set `[hidden] { display: none !important; }`\n",
       "     so we also need the `!important` here to be able to override the\n",
       "     default hidden behavior on the sphinx rendered scikit-learn.org.\n",
       "     See: https://github.com/scikit-learn/scikit-learn/issues/21755 */\n",
       "  display: inline-block !important;\n",
       "  position: relative;\n",
       "}\n",
       "\n",
       "#sk-container-id-2 div.sk-text-repr-fallback {\n",
       "  display: none;\n",
       "}\n",
       "\n",
       "div.sk-parallel-item,\n",
       "div.sk-serial,\n",
       "div.sk-item {\n",
       "  /* draw centered vertical line to link estimators */\n",
       "  background-image: linear-gradient(var(--sklearn-color-text-on-default-background), var(--sklearn-color-text-on-default-background));\n",
       "  background-size: 2px 100%;\n",
       "  background-repeat: no-repeat;\n",
       "  background-position: center center;\n",
       "}\n",
       "\n",
       "/* Parallel-specific style estimator block */\n",
       "\n",
       "#sk-container-id-2 div.sk-parallel-item::after {\n",
       "  content: \"\";\n",
       "  width: 100%;\n",
       "  border-bottom: 2px solid var(--sklearn-color-text-on-default-background);\n",
       "  flex-grow: 1;\n",
       "}\n",
       "\n",
       "#sk-container-id-2 div.sk-parallel {\n",
       "  display: flex;\n",
       "  align-items: stretch;\n",
       "  justify-content: center;\n",
       "  background-color: var(--sklearn-color-background);\n",
       "  position: relative;\n",
       "}\n",
       "\n",
       "#sk-container-id-2 div.sk-parallel-item {\n",
       "  display: flex;\n",
       "  flex-direction: column;\n",
       "}\n",
       "\n",
       "#sk-container-id-2 div.sk-parallel-item:first-child::after {\n",
       "  align-self: flex-end;\n",
       "  width: 50%;\n",
       "}\n",
       "\n",
       "#sk-container-id-2 div.sk-parallel-item:last-child::after {\n",
       "  align-self: flex-start;\n",
       "  width: 50%;\n",
       "}\n",
       "\n",
       "#sk-container-id-2 div.sk-parallel-item:only-child::after {\n",
       "  width: 0;\n",
       "}\n",
       "\n",
       "/* Serial-specific style estimator block */\n",
       "\n",
       "#sk-container-id-2 div.sk-serial {\n",
       "  display: flex;\n",
       "  flex-direction: column;\n",
       "  align-items: center;\n",
       "  background-color: var(--sklearn-color-background);\n",
       "  padding-right: 1em;\n",
       "  padding-left: 1em;\n",
       "}\n",
       "\n",
       "\n",
       "/* Toggleable style: style used for estimator/Pipeline/ColumnTransformer box that is\n",
       "clickable and can be expanded/collapsed.\n",
       "- Pipeline and ColumnTransformer use this feature and define the default style\n",
       "- Estimators will overwrite some part of the style using the `sk-estimator` class\n",
       "*/\n",
       "\n",
       "/* Pipeline and ColumnTransformer style (default) */\n",
       "\n",
       "#sk-container-id-2 div.sk-toggleable {\n",
       "  /* Default theme specific background. It is overwritten whether we have a\n",
       "  specific estimator or a Pipeline/ColumnTransformer */\n",
       "  background-color: var(--sklearn-color-background);\n",
       "}\n",
       "\n",
       "/* Toggleable label */\n",
       "#sk-container-id-2 label.sk-toggleable__label {\n",
       "  cursor: pointer;\n",
       "  display: block;\n",
       "  width: 100%;\n",
       "  margin-bottom: 0;\n",
       "  padding: 0.5em;\n",
       "  box-sizing: border-box;\n",
       "  text-align: center;\n",
       "}\n",
       "\n",
       "#sk-container-id-2 label.sk-toggleable__label-arrow:before {\n",
       "  /* Arrow on the left of the label */\n",
       "  content: \"▸\";\n",
       "  float: left;\n",
       "  margin-right: 0.25em;\n",
       "  color: var(--sklearn-color-icon);\n",
       "}\n",
       "\n",
       "#sk-container-id-2 label.sk-toggleable__label-arrow:hover:before {\n",
       "  color: var(--sklearn-color-text);\n",
       "}\n",
       "\n",
       "/* Toggleable content - dropdown */\n",
       "\n",
       "#sk-container-id-2 div.sk-toggleable__content {\n",
       "  max-height: 0;\n",
       "  max-width: 0;\n",
       "  overflow: hidden;\n",
       "  text-align: left;\n",
       "  /* unfitted */\n",
       "  background-color: var(--sklearn-color-unfitted-level-0);\n",
       "}\n",
       "\n",
       "#sk-container-id-2 div.sk-toggleable__content.fitted {\n",
       "  /* fitted */\n",
       "  background-color: var(--sklearn-color-fitted-level-0);\n",
       "}\n",
       "\n",
       "#sk-container-id-2 div.sk-toggleable__content pre {\n",
       "  margin: 0.2em;\n",
       "  border-radius: 0.25em;\n",
       "  color: var(--sklearn-color-text);\n",
       "  /* unfitted */\n",
       "  background-color: var(--sklearn-color-unfitted-level-0);\n",
       "}\n",
       "\n",
       "#sk-container-id-2 div.sk-toggleable__content.fitted pre {\n",
       "  /* unfitted */\n",
       "  background-color: var(--sklearn-color-fitted-level-0);\n",
       "}\n",
       "\n",
       "#sk-container-id-2 input.sk-toggleable__control:checked~div.sk-toggleable__content {\n",
       "  /* Expand drop-down */\n",
       "  max-height: 200px;\n",
       "  max-width: 100%;\n",
       "  overflow: auto;\n",
       "}\n",
       "\n",
       "#sk-container-id-2 input.sk-toggleable__control:checked~label.sk-toggleable__label-arrow:before {\n",
       "  content: \"▾\";\n",
       "}\n",
       "\n",
       "/* Pipeline/ColumnTransformer-specific style */\n",
       "\n",
       "#sk-container-id-2 div.sk-label input.sk-toggleable__control:checked~label.sk-toggleable__label {\n",
       "  color: var(--sklearn-color-text);\n",
       "  background-color: var(--sklearn-color-unfitted-level-2);\n",
       "}\n",
       "\n",
       "#sk-container-id-2 div.sk-label.fitted input.sk-toggleable__control:checked~label.sk-toggleable__label {\n",
       "  background-color: var(--sklearn-color-fitted-level-2);\n",
       "}\n",
       "\n",
       "/* Estimator-specific style */\n",
       "\n",
       "/* Colorize estimator box */\n",
       "#sk-container-id-2 div.sk-estimator input.sk-toggleable__control:checked~label.sk-toggleable__label {\n",
       "  /* unfitted */\n",
       "  background-color: var(--sklearn-color-unfitted-level-2);\n",
       "}\n",
       "\n",
       "#sk-container-id-2 div.sk-estimator.fitted input.sk-toggleable__control:checked~label.sk-toggleable__label {\n",
       "  /* fitted */\n",
       "  background-color: var(--sklearn-color-fitted-level-2);\n",
       "}\n",
       "\n",
       "#sk-container-id-2 div.sk-label label.sk-toggleable__label,\n",
       "#sk-container-id-2 div.sk-label label {\n",
       "  /* The background is the default theme color */\n",
       "  color: var(--sklearn-color-text-on-default-background);\n",
       "}\n",
       "\n",
       "/* On hover, darken the color of the background */\n",
       "#sk-container-id-2 div.sk-label:hover label.sk-toggleable__label {\n",
       "  color: var(--sklearn-color-text);\n",
       "  background-color: var(--sklearn-color-unfitted-level-2);\n",
       "}\n",
       "\n",
       "/* Label box, darken color on hover, fitted */\n",
       "#sk-container-id-2 div.sk-label.fitted:hover label.sk-toggleable__label.fitted {\n",
       "  color: var(--sklearn-color-text);\n",
       "  background-color: var(--sklearn-color-fitted-level-2);\n",
       "}\n",
       "\n",
       "/* Estimator label */\n",
       "\n",
       "#sk-container-id-2 div.sk-label label {\n",
       "  font-family: monospace;\n",
       "  font-weight: bold;\n",
       "  display: inline-block;\n",
       "  line-height: 1.2em;\n",
       "}\n",
       "\n",
       "#sk-container-id-2 div.sk-label-container {\n",
       "  text-align: center;\n",
       "}\n",
       "\n",
       "/* Estimator-specific */\n",
       "#sk-container-id-2 div.sk-estimator {\n",
       "  font-family: monospace;\n",
       "  border: 1px dotted var(--sklearn-color-border-box);\n",
       "  border-radius: 0.25em;\n",
       "  box-sizing: border-box;\n",
       "  margin-bottom: 0.5em;\n",
       "  /* unfitted */\n",
       "  background-color: var(--sklearn-color-unfitted-level-0);\n",
       "}\n",
       "\n",
       "#sk-container-id-2 div.sk-estimator.fitted {\n",
       "  /* fitted */\n",
       "  background-color: var(--sklearn-color-fitted-level-0);\n",
       "}\n",
       "\n",
       "/* on hover */\n",
       "#sk-container-id-2 div.sk-estimator:hover {\n",
       "  /* unfitted */\n",
       "  background-color: var(--sklearn-color-unfitted-level-2);\n",
       "}\n",
       "\n",
       "#sk-container-id-2 div.sk-estimator.fitted:hover {\n",
       "  /* fitted */\n",
       "  background-color: var(--sklearn-color-fitted-level-2);\n",
       "}\n",
       "\n",
       "/* Specification for estimator info (e.g. \"i\" and \"?\") */\n",
       "\n",
       "/* Common style for \"i\" and \"?\" */\n",
       "\n",
       ".sk-estimator-doc-link,\n",
       "a:link.sk-estimator-doc-link,\n",
       "a:visited.sk-estimator-doc-link {\n",
       "  float: right;\n",
       "  font-size: smaller;\n",
       "  line-height: 1em;\n",
       "  font-family: monospace;\n",
       "  background-color: var(--sklearn-color-background);\n",
       "  border-radius: 1em;\n",
       "  height: 1em;\n",
       "  width: 1em;\n",
       "  text-decoration: none !important;\n",
       "  margin-left: 1ex;\n",
       "  /* unfitted */\n",
       "  border: var(--sklearn-color-unfitted-level-1) 1pt solid;\n",
       "  color: var(--sklearn-color-unfitted-level-1);\n",
       "}\n",
       "\n",
       ".sk-estimator-doc-link.fitted,\n",
       "a:link.sk-estimator-doc-link.fitted,\n",
       "a:visited.sk-estimator-doc-link.fitted {\n",
       "  /* fitted */\n",
       "  border: var(--sklearn-color-fitted-level-1) 1pt solid;\n",
       "  color: var(--sklearn-color-fitted-level-1);\n",
       "}\n",
       "\n",
       "/* On hover */\n",
       "div.sk-estimator:hover .sk-estimator-doc-link:hover,\n",
       ".sk-estimator-doc-link:hover,\n",
       "div.sk-label-container:hover .sk-estimator-doc-link:hover,\n",
       ".sk-estimator-doc-link:hover {\n",
       "  /* unfitted */\n",
       "  background-color: var(--sklearn-color-unfitted-level-3);\n",
       "  color: var(--sklearn-color-background);\n",
       "  text-decoration: none;\n",
       "}\n",
       "\n",
       "div.sk-estimator.fitted:hover .sk-estimator-doc-link.fitted:hover,\n",
       ".sk-estimator-doc-link.fitted:hover,\n",
       "div.sk-label-container:hover .sk-estimator-doc-link.fitted:hover,\n",
       ".sk-estimator-doc-link.fitted:hover {\n",
       "  /* fitted */\n",
       "  background-color: var(--sklearn-color-fitted-level-3);\n",
       "  color: var(--sklearn-color-background);\n",
       "  text-decoration: none;\n",
       "}\n",
       "\n",
       "/* Span, style for the box shown on hovering the info icon */\n",
       ".sk-estimator-doc-link span {\n",
       "  display: none;\n",
       "  z-index: 9999;\n",
       "  position: relative;\n",
       "  font-weight: normal;\n",
       "  right: .2ex;\n",
       "  padding: .5ex;\n",
       "  margin: .5ex;\n",
       "  width: min-content;\n",
       "  min-width: 20ex;\n",
       "  max-width: 50ex;\n",
       "  color: var(--sklearn-color-text);\n",
       "  box-shadow: 2pt 2pt 4pt #999;\n",
       "  /* unfitted */\n",
       "  background: var(--sklearn-color-unfitted-level-0);\n",
       "  border: .5pt solid var(--sklearn-color-unfitted-level-3);\n",
       "}\n",
       "\n",
       ".sk-estimator-doc-link.fitted span {\n",
       "  /* fitted */\n",
       "  background: var(--sklearn-color-fitted-level-0);\n",
       "  border: var(--sklearn-color-fitted-level-3);\n",
       "}\n",
       "\n",
       ".sk-estimator-doc-link:hover span {\n",
       "  display: block;\n",
       "}\n",
       "\n",
       "/* \"?\"-specific style due to the `<a>` HTML tag */\n",
       "\n",
       "#sk-container-id-2 a.estimator_doc_link {\n",
       "  float: right;\n",
       "  font-size: 1rem;\n",
       "  line-height: 1em;\n",
       "  font-family: monospace;\n",
       "  background-color: var(--sklearn-color-background);\n",
       "  border-radius: 1rem;\n",
       "  height: 1rem;\n",
       "  width: 1rem;\n",
       "  text-decoration: none;\n",
       "  /* unfitted */\n",
       "  color: var(--sklearn-color-unfitted-level-1);\n",
       "  border: var(--sklearn-color-unfitted-level-1) 1pt solid;\n",
       "}\n",
       "\n",
       "#sk-container-id-2 a.estimator_doc_link.fitted {\n",
       "  /* fitted */\n",
       "  border: var(--sklearn-color-fitted-level-1) 1pt solid;\n",
       "  color: var(--sklearn-color-fitted-level-1);\n",
       "}\n",
       "\n",
       "/* On hover */\n",
       "#sk-container-id-2 a.estimator_doc_link:hover {\n",
       "  /* unfitted */\n",
       "  background-color: var(--sklearn-color-unfitted-level-3);\n",
       "  color: var(--sklearn-color-background);\n",
       "  text-decoration: none;\n",
       "}\n",
       "\n",
       "#sk-container-id-2 a.estimator_doc_link.fitted:hover {\n",
       "  /* fitted */\n",
       "  background-color: var(--sklearn-color-fitted-level-3);\n",
       "}\n",
       "</style><div id=\"sk-container-id-2\" class=\"sk-top-container\"><div class=\"sk-text-repr-fallback\"><pre>LogisticRegression(class_weight={0: 1, 1: 1}, max_iter=1000, random_state=27)</pre><b>In a Jupyter environment, please rerun this cell to show the HTML representation or trust the notebook. <br />On GitHub, the HTML representation is unable to render, please try loading this page with nbviewer.org.</b></div><div class=\"sk-container\" hidden><div class=\"sk-item\"><div class=\"sk-estimator fitted sk-toggleable\"><input class=\"sk-toggleable__control sk-hidden--visually\" id=\"sk-estimator-id-2\" type=\"checkbox\" checked><label for=\"sk-estimator-id-2\" class=\"sk-toggleable__label fitted sk-toggleable__label-arrow fitted\">&nbsp;&nbsp;LogisticRegression<a class=\"sk-estimator-doc-link fitted\" rel=\"noreferrer\" target=\"_blank\" href=\"https://scikit-learn.org/1.4/modules/generated/sklearn.linear_model.LogisticRegression.html\">?<span>Documentation for LogisticRegression</span></a><span class=\"sk-estimator-doc-link fitted\">i<span>Fitted</span></span></label><div class=\"sk-toggleable__content fitted\"><pre>LogisticRegression(class_weight={0: 1, 1: 1}, max_iter=1000, random_state=27)</pre></div> </div></div></div></div>"
      ],
      "text/plain": [
       "LogisticRegression(class_weight={0: 1, 1: 1}, max_iter=1000, random_state=27)"
      ]
     },
     "execution_count": 66,
     "metadata": {},
     "output_type": "execute_result"
    }
   ],
   "source": [
    "modelo.fit(X_train, y_train)"
   ]
  },
  {
   "cell_type": "markdown",
   "id": "395414e4-d2fd-4c21-bcbe-36da6b3342fe",
   "metadata": {},
   "source": [
    "**Reporte de clasificación**"
   ]
  },
  {
   "cell_type": "code",
   "execution_count": 69,
   "id": "f7780265-24cd-4ad4-a006-a4fcf316e88c",
   "metadata": {},
   "outputs": [
    {
     "name": "stdout",
     "output_type": "stream",
     "text": [
      "\n",
      "Reporte de Clasificación:\n",
      "               precision    recall  f1-score   support\n",
      "\n",
      "       False       0.72      0.70      0.71       963\n",
      "        True       0.71      0.73      0.72       963\n",
      "\n",
      "    accuracy                           0.72      1926\n",
      "   macro avg       0.72      0.72      0.72      1926\n",
      "weighted avg       0.72      0.72      0.72      1926\n",
      "\n"
     ]
    }
   ],
   "source": [
    "y_pred = modelo.predict(X_test)\n",
    "print(\"\\nReporte de Clasificación:\\n\", classification_report(y_test, y_pred))"
   ]
  },
  {
   "cell_type": "markdown",
   "id": "8cd77f0f-9356-4aef-8fe6-cc89458e43dc",
   "metadata": {},
   "source": [
    "**Métrica F1 Beta Score**"
   ]
  },
  {
   "cell_type": "code",
   "execution_count": 72,
   "id": "db9877a0-39f8-43e5-a70a-f6ee979ed85d",
   "metadata": {},
   "outputs": [
    {
     "name": "stdout",
     "output_type": "stream",
     "text": [
      "\n",
      "F1 Beta Score: 0.7269723254853366\n"
     ]
    }
   ],
   "source": [
    "f1_beta = fbeta_score(y_test, y_pred, beta=2)\n",
    "print(\"\\nF1 Beta Score:\", f1_beta)"
   ]
  },
  {
   "cell_type": "markdown",
   "id": "f967caee-47b0-4579-ae15-bb5949642e36",
   "metadata": {},
   "source": [
    "**Curva ROC**"
   ]
  },
  {
   "cell_type": "code",
   "execution_count": 75,
   "id": "ad09ba3e-f3db-4b6f-976c-e424e96fcd01",
   "metadata": {},
   "outputs": [
    {
     "data": {
      "image/png": "[encoded data removed]",
      "text/plain": [
       "<Figure size 800x600 with 1 Axes>"
      ]
     },
     "metadata": {},
     "output_type": "display_data"
    }
   ],
   "source": [
    "if tipo_modelo == 'svm':\n",
    "    y_proba = modelo.decision_function(X_test)\n",
    "elif tipo_modelo == 'logistic':\n",
    "    y_proba = modelo.predict_proba(X_test)[:, 1]\n",
    "\n",
    "fpr, tpr, _ = roc_curve(y_test, y_proba)\n",
    "roc_auc = auc(fpr, tpr)\n",
    "\n",
    "plt.figure(figsize=(8, 6))\n",
    "plt.plot(fpr, tpr, label=f'Curva ROC (AUC = {roc_auc:.2f})')\n",
    "plt.plot([0, 1], [0, 1], linestyle='--')\n",
    "plt.xlabel('1 - Specifity')\n",
    "plt.ylabel('Recall')\n",
    "plt.title('Curva ROC')\n",
    "plt.legend()\n",
    "plt.show()"
   ]
  },
  {
   "cell_type": "markdown",
   "id": "fa7cfff4-c973-4137-9ab7-f4fbc2959b1e",
   "metadata": {},
   "source": [
    "**Curva PR**"
   ]
  },
  {
   "cell_type": "code",
   "execution_count": 78,
   "id": "ae404850-7f0b-4649-80ef-a0269c0bc89d",
   "metadata": {},
   "outputs": [
    {
     "name": "stdout",
     "output_type": "stream",
     "text": [
      "\n",
      "AUC Precisión-Recall: 0.7649971639932437\n"
     ]
    },
    {
     "data": {
      "image/png": "[encoded data removed]",
      "text/plain": [
       "<Figure size 800x600 with 1 Axes>"
      ]
     },
     "metadata": {},
     "output_type": "display_data"
    }
   ],
   "source": [
    "precision, recall, _ = precision_recall_curve(y_test, y_proba)\n",
    "pr_auc = auc(recall, precision)\n",
    "print(\"\\nAUC Precisión-Recall:\", pr_auc)\n",
    "\n",
    "plt.figure(figsize=(8, 6))\n",
    "plt.plot(recall, precision, marker='.', label=f'PR Curva (AUC = {pr_auc:.2f})')\n",
    "plt.xlabel('Recall')\n",
    "plt.ylabel('Precision')\n",
    "plt.title('Precisión-Recall Curva')\n",
    "plt.legend()\n",
    "plt.show()"
   ]
  },
  {
   "cell_type": "code",
   "execution_count": null,
   "id": "95f15da8-d71b-4118-a610-3a50cf1a6ee9",
   "metadata": {},
   "outputs": [],
   "source": []
  }
 ],
 "metadata": {
  "kernelspec": {
   "display_name": "Python 3 (ipykernel)",
   "language": "python",
   "name": "python3"
  },
  "language_info": {
   "codemirror_mode": {
    "name": "ipython",
    "version": 3
   },
   "file_extension": ".py",
   "mimetype": "text/x-python",
   "name": "python",
   "nbconvert_exporter": "python",
   "pygments_lexer": "ipython3",
   "version": "3.12.3"
  }
 },
 "nbformat": 4,
 "nbformat_minor": 5
}
